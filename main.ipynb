{
 "cells": [
  {
   "cell_type": "markdown",
   "metadata": {},
   "source": [
    "battle monster(仮題)のアイデア用コード"
   ]
  },
  {
   "cell_type": "code",
   "execution_count": 9,
   "metadata": {},
   "outputs": [],
   "source": [
    "from typing import List\n",
    "import random"
   ]
  },
  {
   "cell_type": "code",
   "execution_count": 27,
   "metadata": {},
   "outputs": [],
   "source": [
    "import random\n",
    "from typing import List\n",
    "\n",
    "class Monster:\n",
    "    def __init__(self, name: str = \"ななし\"):\n",
    "        self.name: str = name\n",
    "        self.level: int = 0\n",
    "        self.max_hp: int = 5\n",
    "        self.hp: int = self.max_hp\n",
    "        self.atack: List[int] = [2] * 6\n",
    "        self.heal: List[int] = [1] * 6\n",
    "        self.exp: int = 0\n",
    "        self.alive: bool = True\n",
    "        self.strategy: List[int] = [0] * 3\n",
    "        self.initialize_monster()\n",
    "\n",
    "    def initialize_monster(self):\n",
    "        for _ in range(5):\n",
    "            self.level_up()\n",
    "\n",
    "    def level_up(self):\n",
    "        self.level += 1\n",
    "        self.adjust_hp()\n",
    "        self.update_stats(self.atack, 2, 2)\n",
    "        self.update_stats(self.heal, 1, 2)\n",
    "\n",
    "    def adjust_hp(self):\n",
    "        hp_deficit = self.max_hp - self.hp\n",
    "        self.max_hp += random.choice([1, 2])\n",
    "        self.hp = self.max_hp - hp_deficit\n",
    "\n",
    "    def update_stats(self, stats: List[int], increase_count: int, increase_amount: int):\n",
    "        to_increase = random.sample(range(len(stats)), increase_count)\n",
    "        for i in to_increase:\n",
    "            stats[i] += increase_amount\n",
    "        to_decrease = random.sample([i for i in range(len(stats)) if i not in to_increase], increase_count)\n",
    "        for i in to_decrease:\n",
    "            if stats[i] > 1:  # 保証された最小値を維持\n",
    "                stats[i] -= 1\n",
    "\n",
    "    def show(self):\n",
    "        print(f\"名前: {self.name}\")\n",
    "        print(f\"レベル: {self.level}\")\n",
    "        print(f\"最大HP: {self.max_hp}\")\n",
    "        print(f\"現在のHP: {self.hp}\")\n",
    "        print(f\"攻撃力: {self.atack}\")\n",
    "        print(f\"回復力: {self.heal}\")\n",
    "        print(f\"経験値: {self.exp}\")\n",
    "        print(f\"生存状態: {'生存' if self.alive else '死亡'}\")\n"
   ]
  },
  {
   "cell_type": "code",
   "execution_count": null,
   "metadata": {},
   "outputs": [],
   "source": [
    "import random\n",
    "\n",
    "def monster_fight(monster1, monster2):\n",
    "    for turn in range(3):\n",
    "        # ターン毎の戦略を決定\n",
    "        strategy1 = monster1.strategy[turn]\n",
    "        strategy2 = monster2.strategy[turn]\n",
    "\n",
    "        # モンスター1の行動\n",
    "        if strategy1 == 0:  # 攻撃\n",
    "            damage = monster1.atack[random.randint(0, 5)]\n",
    "            if strategy2 == 1:  # カウンター\n",
    "                monster1.hp -= int(damage * 1.5)  # カウンターダメージ\n",
    "            else:\n",
    "                monster2.hp -= damage\n",
    "        elif strategy1 == 2:  # 回復\n",
    "            heal_amount = monster1.heal[random.randint(0, 5)]\n",
    "            monster1.hp = min(monster1.hp + heal_amount, monster1.max_hp)\n",
    "\n",
    "        # モンスター2の行動\n",
    "        if strategy2 == 0:  # 攻撃\n",
    "            damage = monster2.atack[random.randint(0, 5)]\n",
    "            if strategy1 == 1:  # カウンター\n",
    "                monster2.hp -= int(damage * 1.5)  # カウンターダメージ\n",
    "            else:\n",
    "                monster1.hp -= damage\n",
    "        elif strategy2 == 2:  # 回復\n",
    "            heal_amount = monster2.heal[random.randint(0, 5)]\n",
    "            monster2.hp = min(monster2.hp + heal_amount, monster2.max_hp)\n",
    "\n",
    "        # 生存状態の更新\n",
    "        monster1.alive = monster1.hp > 0\n",
    "        monster2.alive = monster2.hp > 0\n",
    "\n",
    "        # もしいずれかのモンスターが倒れたら終了\n",
    "        if not monster1.alive or not monster2.alive:\n",
    "            break\n",
    "\n",
    "    # 結果の表示（オプション）\n",
    "    print(f\"{monster1.name} のHP: {monster1.hp}, 生存: {monster1.alive}\")\n",
    "    print(f\"{monster2.name} のHP: {monster2.hp}, 生存: {monster2.alive}\")\n"
   ]
  },
  {
   "cell_type": "code",
   "execution_count": 28,
   "metadata": {},
   "outputs": [],
   "source": [
    "m1 = Monster(name=\"mew\")"
   ]
  },
  {
   "cell_type": "code",
   "execution_count": 29,
   "metadata": {},
   "outputs": [
    {
     "name": "stdout",
     "output_type": "stream",
     "text": [
      "名前: mew\n",
      "レベル: 5\n",
      "最大HP: 12\n",
      "現在のHP: 12\n",
      "攻撃力: [1, 7, 1, 8, 4, 5]\n",
      "回復力: [1, 3, 3, 2, 3, 3]\n",
      "経験値: 0\n",
      "生存状態: 生存\n"
     ]
    }
   ],
   "source": [
    "m1.show()"
   ]
  },
  {
   "cell_type": "code",
   "execution_count": null,
   "metadata": {},
   "outputs": [],
   "source": []
  }
 ],
 "metadata": {
  "kernelspec": {
   "display_name": "Python 3",
   "language": "python",
   "name": "python3"
  },
  "language_info": {
   "codemirror_mode": {
    "name": "ipython",
    "version": 3
   },
   "file_extension": ".py",
   "mimetype": "text/x-python",
   "name": "python",
   "nbconvert_exporter": "python",
   "pygments_lexer": "ipython3",
   "version": "3.11.6"
  }
 },
 "nbformat": 4,
 "nbformat_minor": 2
}
